{
  "nbformat": 4,
  "nbformat_minor": 0,
  "metadata": {
    "colab": {
      "provenance": []
    },
    "kernelspec": {
      "name": "python3",
      "display_name": "Python 3"
    },
    "language_info": {
      "name": "python"
    }
  },
  "cells": [
    {
      "cell_type": "markdown",
      "metadata": {
        "id": "JV_DFHwgFLxt"
      },
      "source": [
        "# Анализ и прогнозирование неоднородных временных рядов, БИ\n",
        "\n",
        "## НИУ ВШЭ, 2022-23 учебный год"
      ]
    },
    {
      "cell_type": "markdown",
      "metadata": {
        "id": "4g9bZIi-YdZz"
      },
      "source": [
        "# Семинар 6. Временные ряды - анализ и модели"
      ]
    },
    {
      "cell_type": "markdown",
      "source": [
        "## Раздел 1. Временные ряды. Обработка, форматирование, визуализация"
      ],
      "metadata": {
        "id": "XVR2j69cpUGP"
      }
    },
    {
      "cell_type": "markdown",
      "metadata": {
        "id": "ooc-T9OfAD1U"
      },
      "source": [
        "Временной ряд — собранный в разные моменты времени статистический материал о значении каких-либо параметров исследуемого процесса."
      ]
    },
    {
      "cell_type": "markdown",
      "metadata": {
        "id": "4hfMYyYWAD1U"
      },
      "source": [
        "Скалярным временным рядом \n",
        "\n",
        "$$\\{x_i\\}_{i=1}^N$$\n",
        "\n",
        "называется массив из $N$ чисел, представляющих собой значения некоторой измеренной (наблюдаемой) динамической переменной $x(t)$ с некоторым постоянным шагом $τ$ по времени,\n",
        "\n",
        " $$t_i = t_0 + (i − 1)τ : x_i = x(t_i), i = 1, . . . , N.$$  "
      ]
    },
    {
      "cell_type": "markdown",
      "metadata": {
        "id": "2UD3vWuBAD1U"
      },
      "source": [
        "Примеры: \n",
        "- объёмы продаж в торговых сетях\n",
        "- объёмы потребления и цены электроэнергии\n",
        "- остатки складских запасов\n",
        "- рыночные цены\n",
        "- дорожный трафик (прогнозирование пробок)"
      ]
    },
    {
      "cell_type": "markdown",
      "source": [
        "**Вопрос:** Какие задачи здесь возникают?"
      ],
      "metadata": {
        "id": "WN-fckRrr4IR"
      }
    },
    {
      "cell_type": "markdown",
      "metadata": {
        "id": "Xae1PwSbAD1V"
      },
      "source": [
        "### Чтение данных"
      ]
    },
    {
      "cell_type": "markdown",
      "source": [
        "В рамках этого ноутбука будем работать с данными по продажам в Индии в различных городах и штатах"
      ],
      "metadata": {
        "id": "DknJ5UoHsFaW"
      }
    },
    {
      "cell_type": "markdown",
      "metadata": {
        "id": "y1o2cyXzAD1V"
      },
      "source": [
        "Для начала визуализируем наши данные и попробуем сформулировать новые гипотезы о задаче, которую хотим решить.\n",
        "\n",
        "Загрузим данные и посмотрим на структуру данных"
      ]
    },
    {
      "cell_type": "code",
      "execution_count": null,
      "metadata": {
        "id": "KA_Kp9qsAD1V"
      },
      "outputs": [],
      "source": [
        "import pandas as pd\n",
        "import numpy as np\n",
        "import matplotlib.pyplot as plt\n",
        "\n",
        "import statsmodels.api as sm\n",
        "import statsmodels.formula.api as smf\n",
        "from statsmodels.tsa.stattools import adfuller\n",
        "%matplotlib inline\n",
        "\n",
        "pd.options.display.float_format = '{:.2f}'.format\n",
        "\n",
        "df = pd.read_csv('MarketArrivals_Ind.csv')"
      ]
    },
    {
      "cell_type": "markdown",
      "metadata": {
        "id": "2-10i4ssAD1W"
      },
      "source": [
        "### Анализ структуры данных"
      ]
    },
    {
      "cell_type": "code",
      "execution_count": null,
      "metadata": {
        "id": "q_GDYwU-AD1X"
      },
      "outputs": [],
      "source": [
        "df.shape"
      ]
    },
    {
      "cell_type": "code",
      "execution_count": null,
      "metadata": {
        "id": "Avv377F7AD1Y"
      },
      "outputs": [],
      "source": [
        "df.head()"
      ]
    },
    {
      "cell_type": "markdown",
      "metadata": {
        "id": "1FSLA5UGAD1Y"
      },
      "source": [
        "#### Cтруктура данных\n",
        "\n",
        "В нашем датафрейме 10 столбцов.\n",
        "\n",
        "В датафрейме следующие типы данных:\n",
        "- **CATEGORICAL**: state, city, market\n",
        "- **TIME INTERVAL**: month, year, date\n",
        "- **QUANTITATIVE**: quantity, priceMin, priceMax, priceModal\n",
        "\n",
        "Посмотрим какие типы данных pandas определил при чтении данных."
      ]
    },
    {
      "cell_type": "code",
      "execution_count": null,
      "metadata": {
        "id": "VzIb1XW1AD1Y"
      },
      "outputs": [],
      "source": [
        "# Выведем типы данных\n",
        "df.dtypes"
      ]
    },
    {
      "cell_type": "markdown",
      "metadata": {
        "id": "mNM-EH8qAD1Y"
      },
      "source": [
        "Видим, что количественные столбцы отображаться как целочисленные и категориальные как объекты(строки), что отлично.\n",
        "Однако, столбцы `date` прочитаны как объект, а не даты(время). Исправим это."
      ]
    },
    {
      "cell_type": "code",
      "execution_count": null,
      "metadata": {
        "id": "dsl9_lyMAD1Y"
      },
      "outputs": [],
      "source": [
        "df.date = pd.DatetimeIndex(df.date)"
      ]
    },
    {
      "cell_type": "code",
      "execution_count": null,
      "metadata": {
        "id": "BSL8UAETAD1Z"
      },
      "outputs": [],
      "source": [
        "df.shape"
      ]
    },
    {
      "cell_type": "code",
      "execution_count": null,
      "metadata": {
        "id": "ukdhK1RtAD1Z"
      },
      "outputs": [],
      "source": [
        "df.dtypes"
      ]
    },
    {
      "cell_type": "code",
      "execution_count": null,
      "metadata": {
        "id": "ql0HFvbkAD1Z"
      },
      "outputs": [],
      "source": [
        "df.head()"
      ]
    },
    {
      "cell_type": "markdown",
      "metadata": {
        "id": "_SNAJOa-AD1Z"
      },
      "source": [
        "### Задание 1. Определите, насколько большой был рынок в Бангалоре по сравнению с другими городами в 2010 году?"
      ]
    },
    {
      "cell_type": "markdown",
      "metadata": {
        "id": "nStWhWbmAD1a"
      },
      "source": [
        "Ответим на этот вопрос, используя данные 2010го года."
      ]
    },
    {
      "cell_type": "code",
      "execution_count": null,
      "metadata": {
        "id": "gMwueSILAD1a"
      },
      "outputs": [],
      "source": [
        "df2010 = df[df.year == 2010]"
      ]
    },
    {
      "cell_type": "code",
      "execution_count": null,
      "metadata": {
        "id": "uXUJugSZAD1a"
      },
      "outputs": [],
      "source": [
        "df2010.head()"
      ]
    },
    {
      "cell_type": "code",
      "execution_count": null,
      "metadata": {
        "id": "jrzu8kaoAD1a"
      },
      "outputs": [],
      "source": [
        "df2010Bang = df[(df.year == 2010) & (df.city == 'BANGALORE')]"
      ]
    },
    {
      "cell_type": "code",
      "execution_count": null,
      "metadata": {
        "id": "QKnRGehcAD1b"
      },
      "outputs": [],
      "source": [
        "df2010Bang.head()"
      ]
    },
    {
      "cell_type": "code",
      "execution_count": null,
      "metadata": {
        "id": "ORZpIp38AD1b"
      },
      "outputs": [],
      "source": [
        "# Считаем суммы по quantity\n",
        "df2010City = df2010.groupby(['city']).quantity.sum()"
      ]
    },
    {
      "cell_type": "code",
      "execution_count": null,
      "metadata": {
        "id": "y4rdunOVAD1b"
      },
      "outputs": [],
      "source": [
        "df2010City.head()"
      ]
    },
    {
      "cell_type": "code",
      "execution_count": null,
      "metadata": {
        "id": "MMGr1KTDAD1b"
      },
      "outputs": [],
      "source": [
        "type(df2010City)"
      ]
    },
    {
      "cell_type": "code",
      "execution_count": null,
      "metadata": {
        "id": "-RB1xUGBAD1c"
      },
      "outputs": [],
      "source": [
        "# Создаем dataframe\n",
        "df2010City = df2010.groupby(['city'], as_index=False).quantity.sum()"
      ]
    },
    {
      "cell_type": "code",
      "execution_count": null,
      "metadata": {
        "id": "aFhiwFERAD1c"
      },
      "outputs": [],
      "source": [
        "df2010City.head()"
      ]
    },
    {
      "cell_type": "code",
      "execution_count": null,
      "metadata": {
        "id": "w5FBrsnZAD1c"
      },
      "outputs": [],
      "source": [
        "# Cортируем df по Quantity\n",
        "df2010City = df2010City.sort_values(by = \"quantity\", ascending = False)\n",
        "df2010City.head()\n"
      ]
    },
    {
      "cell_type": "markdown",
      "metadata": {
        "id": "br27ykE4AD1d"
      },
      "source": [
        "Визуализируем наши выводы"
      ]
    },
    {
      "cell_type": "code",
      "execution_count": null,
      "metadata": {
        "id": "zsnyTPNeAD1d"
      },
      "outputs": [],
      "source": [
        "import matplotlib.pyplot as plt\n",
        "%matplotlib inline"
      ]
    },
    {
      "cell_type": "code",
      "execution_count": null,
      "metadata": {
        "id": "mmRxVQFdAD1d"
      },
      "outputs": [],
      "source": [
        "plt.style.use('ggplot')\n",
        "plt.rcParams['figure.figsize'] = (15, 15)\n",
        "df2010City.plot(kind =\"barh\", x = 'city', y = 'quantity', colormap='summer')"
      ]
    },
    {
      "cell_type": "markdown",
      "metadata": {
        "id": "XnRvHSCnAD1e"
      },
      "source": [
        "### Задание 2. Найти штат с наибольшими продажами в 2015 году"
      ]
    },
    {
      "cell_type": "code",
      "execution_count": null,
      "metadata": {
        "id": "NLql4FbRAD1e"
      },
      "outputs": [],
      "source": [
        "### your code here"
      ]
    },
    {
      "cell_type": "markdown",
      "metadata": {
        "id": "Ozxa1CVFAD1e"
      },
      "source": [
        "### Задание 3. Вывести график кол-ва продаж в штате MS по всем городам в 2015 году"
      ]
    },
    {
      "cell_type": "code",
      "execution_count": null,
      "metadata": {
        "id": "it0QqiTqAD1e"
      },
      "outputs": [],
      "source": [
        "### your code here"
      ]
    },
    {
      "cell_type": "markdown",
      "metadata": {
        "id": "h0v9y27YAD1e"
      },
      "source": [
        "### Задание 4. Растет ли разброс цен в Бангалоре с годами?"
      ]
    },
    {
      "cell_type": "code",
      "execution_count": null,
      "metadata": {
        "id": "PrWSW95bAD1e"
      },
      "outputs": [],
      "source": [
        "df.head()"
      ]
    },
    {
      "cell_type": "code",
      "execution_count": null,
      "metadata": {
        "id": "fKvfqtn9AD1f"
      },
      "outputs": [],
      "source": [
        "dfBang = df[df.city == 'BANGALORE']"
      ]
    },
    {
      "cell_type": "code",
      "execution_count": null,
      "metadata": {
        "id": "ybsawLzCAD1f"
      },
      "outputs": [],
      "source": [
        "dfBang.head()"
      ]
    },
    {
      "cell_type": "code",
      "execution_count": null,
      "metadata": {
        "id": "whnk3I7WAD1f"
      },
      "outputs": [],
      "source": [
        "dfBang.describe()"
      ]
    },
    {
      "cell_type": "markdown",
      "metadata": {
        "id": "HVIfpFajAD1g"
      },
      "source": [
        "#### Установим Index как date"
      ]
    },
    {
      "cell_type": "code",
      "execution_count": null,
      "metadata": {
        "id": "pRaeQ7ZFAD1g"
      },
      "outputs": [],
      "source": [
        "dfBang.head()"
      ]
    },
    {
      "cell_type": "code",
      "execution_count": null,
      "metadata": {
        "id": "YagphXGZAD1g"
      },
      "outputs": [],
      "source": [
        "dfBang.index"
      ]
    },
    {
      "cell_type": "code",
      "execution_count": null,
      "metadata": {
        "id": "4sjKvgdWAD1g"
      },
      "outputs": [],
      "source": [
        "# Упорядочим по датам\n",
        "dfBang = dfBang.sort_values(by = \"date\")\n",
        "dfBang.head()"
      ]
    },
    {
      "cell_type": "code",
      "execution_count": null,
      "metadata": {
        "id": "NOVVx_lAAD1g"
      },
      "outputs": [],
      "source": [
        "# Установим index\n",
        "dfBang.index = pd.PeriodIndex(dfBang.date, freq='M')"
      ]
    },
    {
      "cell_type": "code",
      "execution_count": null,
      "metadata": {
        "id": "IVkkq6keAD1g"
      },
      "outputs": [],
      "source": [
        "dfBang.head()"
      ]
    },
    {
      "cell_type": "markdown",
      "metadata": {
        "id": "P1itJGQtAD1h"
      },
      "source": [
        "#### Нарисуем графики"
      ]
    },
    {
      "cell_type": "code",
      "execution_count": null,
      "metadata": {
        "id": "NjmFxS2zAD1h"
      },
      "outputs": [],
      "source": [
        "dfBang.priceMod.plot()"
      ]
    },
    {
      "cell_type": "markdown",
      "source": [
        "Мы получили временной ряд !"
      ],
      "metadata": {
        "id": "RNZjDIjwvJZo"
      }
    },
    {
      "cell_type": "code",
      "execution_count": null,
      "metadata": {
        "id": "wqg8DjwBAD1h"
      },
      "outputs": [],
      "source": [
        "dfBang.plot(kind = \"line\", y = ['priceMin', 'priceMod', 'priceMax'])"
      ]
    },
    {
      "cell_type": "markdown",
      "source": [
        "Мы получили сразу 3 временных ряда на одних осях !"
      ],
      "metadata": {
        "id": "nqbtGVAAvMi6"
      }
    },
    {
      "cell_type": "markdown",
      "metadata": {
        "id": "y4XJ9p9NAD1h"
      },
      "source": [
        "Для расчета изменения создадим новый атрибут с разницей priceMax и priceMin  "
      ]
    },
    {
      "cell_type": "code",
      "execution_count": null,
      "metadata": {
        "id": "0USQVkXyAD1h"
      },
      "outputs": [],
      "source": [
        "dfBang['priceDiff'] = dfBang['priceMax'] - dfBang['priceMin']"
      ]
    },
    {
      "cell_type": "code",
      "execution_count": null,
      "metadata": {
        "id": "DiqM-U5rAD1h"
      },
      "outputs": [],
      "source": [
        "dfBang.head()"
      ]
    },
    {
      "cell_type": "markdown",
      "metadata": {
        "id": "UmVDYRtlAD1i"
      },
      "source": [
        "Выведем график priceDiff"
      ]
    },
    {
      "cell_type": "code",
      "execution_count": null,
      "metadata": {
        "id": "LCsyxCesAD1i"
      },
      "outputs": [],
      "source": [
        "dfBang.plot(kind = 'line', y = 'priceDiff')"
      ]
    },
    {
      "cell_type": "markdown",
      "source": [
        "## Раздел 2. Работа со сводными таблицами (pivot table)"
      ],
      "metadata": {
        "id": "059GF7V6vy0f"
      }
    },
    {
      "cell_type": "markdown",
      "source": [
        "Возможность создавать сводные таблицы присутствует в электронных таблицах и других программах, оперирующих табличными данными.\n",
        "Сводная таблица принимает на входе данные из отдельных столбцов и группирует их, формируя двумерную таблицу, реализующую многомерное обобщение данных.\n",
        "Чтобы ощутить разницу между сводной таблицей и операцией GroupBy, можно представить себе сводную таблицу, как многомерный вариант агрегации посредством GroupBy. То есть данные разделяются, преобразуются и объединяются, но при этом разделение и объединение осуществляются не по одномерному индексу, а по двумерной сетке."
      ],
      "metadata": {
        "id": "CcN0XGrVwEV5"
      }
    },
    {
      "cell_type": "markdown",
      "metadata": {
        "id": "wey2NfwUAD1i"
      },
      "source": [
        "\n",
        "![](https://pandas.pydata.org/pandas-docs/stable/_images/reshaping_pivot.png)\n"
      ]
    },
    {
      "cell_type": "code",
      "execution_count": null,
      "metadata": {
        "id": "s4Hohz8rAD1i"
      },
      "outputs": [],
      "source": [
        "# Создадим новый столбец для значения Месяц\n",
        "dfBang['monthVal'] = pd.DatetimeIndex(dfBang['date']).month"
      ]
    },
    {
      "cell_type": "code",
      "execution_count": null,
      "metadata": {
        "id": "LoxMhF6hAD1i"
      },
      "outputs": [],
      "source": [
        "dfBang.head()"
      ]
    },
    {
      "cell_type": "markdown",
      "metadata": {
        "id": "yxfkyResAD1j"
      },
      "source": [
        "Cоздадим сводную таблицу по priceDiff (строки - monthval, столбцы - year)"
      ]
    },
    {
      "cell_type": "code",
      "execution_count": null,
      "metadata": {
        "id": "M81F3kkVAD1j"
      },
      "outputs": [],
      "source": [
        "dfBangPivot = pd.pivot_table(dfBang, values = \"priceDiff\", \n",
        "                             columns = \"year\", index = \"monthVal\")"
      ]
    },
    {
      "cell_type": "code",
      "execution_count": null,
      "metadata": {
        "id": "Suqrdts3AD1j"
      },
      "outputs": [],
      "source": [
        "dfBangPivot"
      ]
    },
    {
      "cell_type": "code",
      "execution_count": null,
      "metadata": {
        "id": "GduZ9dd6AD1j"
      },
      "outputs": [],
      "source": [
        "plt.style.use('ggplot')\n",
        "dfBangPivot.plot()"
      ]
    },
    {
      "cell_type": "markdown",
      "metadata": {
        "id": "TCRy1PyyAD1j"
      },
      "source": [
        "### Задание 5. Вывести сводную таблицу с quantity по штатам и годам"
      ]
    },
    {
      "cell_type": "code",
      "execution_count": null,
      "metadata": {
        "id": "7IjUIx_yAD1j"
      },
      "outputs": [],
      "source": [
        "### your code here"
      ]
    },
    {
      "cell_type": "markdown",
      "source": [
        "## Раздел 3. Прогнозирование временного ряда"
      ],
      "metadata": {
        "id": "MTUq6HDPD43q"
      }
    },
    {
      "cell_type": "markdown",
      "metadata": {
        "id": "phABGrJLEeFr"
      },
      "source": [
        "### План\n",
        "#### 3. Прогнозирование временного ряда\n",
        "#### 3.1 Прогнозирование средним (Mean Constant Model)\n",
        "#### 3.2. Линейная модель (Linear Trend Model)\n",
        "#### 3.3. Линейная модель с регрессией (Linear Regression Model)\n",
        "#### 4. Выделение тренда и сезонности\n",
        "#### 5. Стационарность ряда\n",
        "#### 6. ARIMA"
      ]
    },
    {
      "cell_type": "markdown",
      "metadata": {
        "id": "bnZFyQA9SSeS"
      },
      "source": [
        "### Подготовка данных"
      ]
    },
    {
      "cell_type": "code",
      "execution_count": null,
      "metadata": {
        "id": "KQwWU3Y9SSeS"
      },
      "outputs": [],
      "source": [
        "# Отсортируем и добавим date в индекс\n",
        "df.index = pd.PeriodIndex(df.date, freq='M')\n",
        "df.index.rename('date_ind', inplace = True)\n",
        "df = df.sort_values(by = \"date\")"
      ]
    },
    {
      "cell_type": "code",
      "execution_count": null,
      "metadata": {
        "id": "oExHz2E0SSeS"
      },
      "outputs": [],
      "source": [
        "df.head()"
      ]
    },
    {
      "cell_type": "markdown",
      "metadata": {
        "id": "uijbBEZdSSeS"
      },
      "source": [
        "Будем работать с данными в городе Бангалор"
      ]
    },
    {
      "cell_type": "code",
      "execution_count": null,
      "metadata": {
        "id": "Y9B_CzPpSSeS"
      },
      "outputs": [],
      "source": [
        "dfBang = df.loc[df.city == \"BANGALORE\"].copy()"
      ]
    },
    {
      "cell_type": "code",
      "execution_count": null,
      "metadata": {
        "id": "6tpriqxsSSeT"
      },
      "outputs": [],
      "source": [
        "dfBang.head()"
      ]
    },
    {
      "cell_type": "code",
      "execution_count": null,
      "metadata": {
        "id": "dIvhiakvSSeT"
      },
      "outputs": [],
      "source": [
        "# Удалим лишние столбцы\n",
        "dfBang = dfBang.drop([\"market\", \"month\", \"year\", \"state\", \"city\", \"priceMin\", \"priceMax\"], axis = 1)"
      ]
    },
    {
      "cell_type": "code",
      "source": [
        "dfBang.shape"
      ],
      "metadata": {
        "id": "n1ipBdV7FTgl"
      },
      "execution_count": null,
      "outputs": []
    },
    {
      "cell_type": "code",
      "execution_count": null,
      "metadata": {
        "id": "TJOb53XQSSeT"
      },
      "outputs": [],
      "source": [
        "dfBang.head()"
      ]
    },
    {
      "cell_type": "code",
      "execution_count": null,
      "metadata": {
        "id": "6JXRFBd-SSeT"
      },
      "outputs": [],
      "source": [
        "dfBang.priceMod.plot()"
      ]
    },
    {
      "cell_type": "code",
      "execution_count": null,
      "metadata": {
        "id": "leP-cm3pSSeT"
      },
      "outputs": [],
      "source": [
        "dfBang.quantity.plot()"
      ]
    },
    {
      "cell_type": "markdown",
      "metadata": {
        "id": "45ryzG0kEeF3"
      },
      "source": [
        "### Логарифмическое преобразование данных\n",
        "Логарифмирование помогает стабилизировать разброс значений."
      ]
    },
    {
      "cell_type": "code",
      "execution_count": null,
      "metadata": {
        "id": "opXVokzoEeF3"
      },
      "outputs": [],
      "source": [
        "dfBang.priceMod.plot(kind = \"hist\", bins = 30)"
      ]
    },
    {
      "cell_type": "markdown",
      "metadata": {
        "id": "m_mBX84XEeF3"
      },
      "source": [
        "При визуализации можем заметить, что есть данные, далеко отстающие от среднего значения, что может искажать модель регрессии. Наша задача минимизировать влияние таких данных. Желательно не исключая их.  \n",
        "В этом случае самый распространенный вариант действия - логарифмирование переменной."
      ]
    },
    {
      "cell_type": "code",
      "execution_count": null,
      "metadata": {
        "id": "2GOm-stjEeF4"
      },
      "outputs": [],
      "source": [
        "dfBang['priceModLog'] = np.log(dfBang.priceMod)\n",
        "dfBang.head()"
      ]
    },
    {
      "cell_type": "code",
      "execution_count": null,
      "metadata": {
        "id": "fshGQDuwEeF4"
      },
      "outputs": [],
      "source": [
        "dfBang.priceModLog.plot(kind = \"hist\", bins = 30)"
      ]
    },
    {
      "cell_type": "code",
      "execution_count": null,
      "metadata": {
        "id": "bs6cPyANEeF4"
      },
      "outputs": [],
      "source": [
        "dfBang.priceModLog.plot()"
      ]
    },
    {
      "cell_type": "markdown",
      "metadata": {
        "id": "cIHVa_bzEeF4"
      },
      "source": [
        "## 3.1. Прогнозирование средним "
      ]
    },
    {
      "cell_type": "code",
      "execution_count": null,
      "metadata": {
        "id": "oN4QvW0FEeF4"
      },
      "outputs": [],
      "source": [
        "model_mean_pred = dfBang.priceModLog.mean()"
      ]
    },
    {
      "cell_type": "code",
      "execution_count": null,
      "metadata": {
        "id": "4Qa8P1IxEeF5"
      },
      "outputs": [],
      "source": [
        "# Запишем это значение в priceMean\n",
        "dfBang[\"priceMean\"] = np.exp(model_mean_pred)"
      ]
    },
    {
      "cell_type": "code",
      "execution_count": null,
      "metadata": {
        "id": "T3ZBIbuFEeF5"
      },
      "outputs": [],
      "source": [
        "dfBang.plot(kind=\"line\", x= 'date', y = [\"priceMod\", \"priceMean\"])"
      ]
    },
    {
      "cell_type": "markdown",
      "metadata": {
        "id": "q4x9fBy0EeF6"
      },
      "source": [
        "**Как мерить качество?**\n",
        "\n",
        "Чтобы обучать регрессионные модели, нужно определиться, как именно измеряется качество предсказаний.   \n",
        "Будем использовать метрику RMSE (Root Mean Squared Error) - корень среднего квадрата отклонения.\n",
        "\n",
        "$$RMSE =  \\sqrt{ \\Sigma (\\hat{y} - y)^2/n} $$ , \n",
        "где $\\hat{y}$ это предсказанное значение y"
      ]
    },
    {
      "cell_type": "code",
      "execution_count": null,
      "metadata": {
        "id": "Wk10ohbNEeF6"
      },
      "outputs": [],
      "source": [
        "def RMSE(predicted, actual):\n",
        "    mse = (predicted - actual)**2\n",
        "    rmse = np.sqrt(mse.sum()/mse.count())\n",
        "    return rmse"
      ]
    },
    {
      "cell_type": "code",
      "execution_count": null,
      "metadata": {
        "id": "6YrsUJlLEeF6"
      },
      "outputs": [],
      "source": [
        "model_mean_RMSE = RMSE(dfBang.priceMean, dfBang.priceMod)\n",
        "model_mean_RMSE"
      ]
    },
    {
      "cell_type": "code",
      "execution_count": null,
      "metadata": {
        "id": "qAW5kUeLEeF6"
      },
      "outputs": [],
      "source": [
        "dfBangResults = pd.DataFrame(columns = [\"Model\", \"RMSE\"])\n",
        "dfBangResults.head()"
      ]
    },
    {
      "cell_type": "code",
      "execution_count": null,
      "metadata": {
        "id": "XBJFzenyEeF7"
      },
      "outputs": [],
      "source": [
        "dfBangResults.loc[0,\"Model\"] = \"Mean\"\n",
        "dfBangResults.loc[0,\"RMSE\"] = model_mean_RMSE\n",
        "dfBangResults.head()"
      ]
    },
    {
      "cell_type": "markdown",
      "metadata": {
        "id": "GJrFtdqEEeF7"
      },
      "source": [
        "### Задание 6. Постройте модель средних для величины quantity"
      ]
    },
    {
      "cell_type": "code",
      "execution_count": null,
      "metadata": {
        "id": "Z6DwnlN-EeF7"
      },
      "outputs": [],
      "source": [
        "## your code here"
      ]
    },
    {
      "cell_type": "markdown",
      "metadata": {
        "id": "Thab26VyEeF7"
      },
      "source": [
        "## 3.2. Линейная модель\n",
        "\n",
        "Построим линейную зависиммость между priceModLog and time.   \n",
        "Уравнение регрессии строится с помощью метода наимменьших квадратов."
      ]
    },
    {
      "cell_type": "code",
      "execution_count": null,
      "metadata": {
        "id": "tc-GWN6fEeF7"
      },
      "outputs": [],
      "source": [
        "dfBang.head()"
      ]
    },
    {
      "cell_type": "code",
      "execution_count": null,
      "metadata": {
        "id": "TDf7l1GdEeF7"
      },
      "outputs": [],
      "source": [
        "dfBang.dtypes"
      ]
    },
    {
      "cell_type": "code",
      "execution_count": null,
      "metadata": {
        "id": "z30sJ2SkEeF8"
      },
      "outputs": [],
      "source": [
        "dfBang.date.min()"
      ]
    },
    {
      "cell_type": "code",
      "execution_count": null,
      "metadata": {
        "id": "KYUzGT9tEeF8"
      },
      "outputs": [],
      "source": [
        "dfBang[\"timeIndex\"] = dfBang.date - dfBang.date.min()"
      ]
    },
    {
      "cell_type": "code",
      "execution_count": null,
      "metadata": {
        "id": "qVeGkkfoEeF8"
      },
      "outputs": [],
      "source": [
        "dfBang.dtypes"
      ]
    },
    {
      "cell_type": "code",
      "execution_count": null,
      "metadata": {
        "id": "kiEpZqLYEeF8"
      },
      "outputs": [],
      "source": [
        "dfBang[\"timeIndex\"] =  dfBang[\"timeIndex\"]/np.timedelta64(1, 'M')"
      ]
    },
    {
      "cell_type": "code",
      "execution_count": null,
      "metadata": {
        "id": "rLYDiY9qEeF8"
      },
      "outputs": [],
      "source": [
        "dfBang[\"timeIndex\"] = dfBang[\"timeIndex\"].round(0).astype(int)"
      ]
    },
    {
      "cell_type": "code",
      "execution_count": null,
      "metadata": {
        "id": "SaH8F87qEeF8"
      },
      "outputs": [],
      "source": [
        "dfBang.timeIndex.tail()"
      ]
    },
    {
      "cell_type": "code",
      "execution_count": null,
      "metadata": {
        "id": "M_InqaM3EeF8"
      },
      "outputs": [],
      "source": [
        "dfBang.head()"
      ]
    },
    {
      "cell_type": "code",
      "execution_count": null,
      "metadata": {
        "id": "kfT0EQ5jEeF9"
      },
      "outputs": [],
      "source": [
        "model_linear = smf.ols('priceModLog ~ timeIndex', data = dfBang).fit()"
      ]
    },
    {
      "cell_type": "code",
      "execution_count": null,
      "metadata": {
        "id": "VkFbYwOsEeF9"
      },
      "outputs": [],
      "source": [
        "model_linear.summary()"
      ]
    },
    {
      "cell_type": "markdown",
      "metadata": {
        "id": "hxUMw0_mEeF9"
      },
      "source": [
        "#### Выведем параметры нашей линейной модели"
      ]
    },
    {
      "cell_type": "code",
      "execution_count": null,
      "metadata": {
        "id": "wE_2psMWEeF9"
      },
      "outputs": [],
      "source": [
        "model_linear.params"
      ]
    },
    {
      "cell_type": "code",
      "execution_count": null,
      "metadata": {
        "id": "h8yTmiqsEeF9"
      },
      "outputs": [],
      "source": [
        "c = model_linear.params[0]\n",
        "c"
      ]
    },
    {
      "cell_type": "code",
      "execution_count": null,
      "metadata": {
        "id": "YjBNJAUTEeF9"
      },
      "outputs": [],
      "source": [
        "m = model_linear.params[1]\n",
        "m"
      ]
    },
    {
      "cell_type": "code",
      "execution_count": null,
      "metadata": {
        "id": "CUFoEiaNEeF-"
      },
      "outputs": [],
      "source": [
        "model_linear_pred = model_linear.predict()"
      ]
    },
    {
      "cell_type": "code",
      "execution_count": null,
      "metadata": {
        "id": "C7QqBIRXEeF-"
      },
      "outputs": [],
      "source": [
        "model_linear_pred"
      ]
    },
    {
      "cell_type": "code",
      "execution_count": null,
      "metadata": {
        "id": "jY20fFj9EeF-"
      },
      "outputs": [],
      "source": [
        "dfBang[\"priceLinear\"] = np.exp(model_linear_pred)"
      ]
    },
    {
      "cell_type": "code",
      "execution_count": null,
      "metadata": {
        "id": "TCrvGOybEeF-"
      },
      "outputs": [],
      "source": [
        "dfBang.plot(kind=\"line\", x=\"timeIndex\", y = \"priceModLog\")\n",
        "plt.plot(dfBang.timeIndex,model_linear_pred, '-')"
      ]
    },
    {
      "cell_type": "code",
      "execution_count": null,
      "metadata": {
        "id": "6c33s5DGEeF-"
      },
      "outputs": [],
      "source": [
        "model_linear.resid.plot(kind = \"bar\")"
      ]
    },
    {
      "cell_type": "markdown",
      "metadata": {
        "id": "j64uyHDbEeF-"
      },
      "source": [
        "Посчитаем ошибку RMSE на линейной модели:"
      ]
    },
    {
      "cell_type": "code",
      "execution_count": null,
      "metadata": {
        "id": "QIkxU_rmEeF_"
      },
      "outputs": [],
      "source": [
        "model_linear_RMSE = RMSE(dfBang.priceLinear, dfBang.priceMod)\n",
        "model_linear_RMSE"
      ]
    },
    {
      "cell_type": "code",
      "execution_count": null,
      "metadata": {
        "id": "DB5IBOJjEeF_"
      },
      "outputs": [],
      "source": [
        "dfBangResults.loc[1,\"Model\"] = \"Linear\"\n",
        "dfBangResults.loc[1,\"RMSE\"] = model_linear_RMSE\n",
        "dfBangResults.head()"
      ]
    },
    {
      "cell_type": "markdown",
      "metadata": {
        "id": "TJZx4gOqEeF_"
      },
      "source": [
        "### Задание 7. Постройте линейную модель для величины quantity"
      ]
    },
    {
      "cell_type": "code",
      "execution_count": null,
      "metadata": {
        "id": "agdsJL6PEeF_"
      },
      "outputs": [],
      "source": [
        "### your code here"
      ]
    },
    {
      "cell_type": "markdown",
      "metadata": {
        "id": "7yNM3JNxEeF_"
      },
      "source": [
        "## 3.3 Линейная модель с регрессией"
      ]
    },
    {
      "cell_type": "code",
      "source": [
        "dfBang.tail()"
      ],
      "metadata": {
        "id": "2rNR0j71R_gr"
      },
      "execution_count": null,
      "outputs": []
    },
    {
      "cell_type": "code",
      "execution_count": null,
      "metadata": {
        "id": "6ICf-rvkEeF_"
      },
      "outputs": [],
      "source": [
        "## Построим регрессию, используя несколько переменных timeIndex и np.log(quantity)\n",
        "model_linear_quantity = smf.ols('priceModLog ~ timeIndex + np.log(quantity)', data = dfBang).fit()"
      ]
    },
    {
      "cell_type": "code",
      "execution_count": null,
      "metadata": {
        "id": "9jto-IVEEeGA"
      },
      "outputs": [],
      "source": [
        "model_linear_quantity.summary()"
      ]
    },
    {
      "cell_type": "code",
      "execution_count": null,
      "metadata": {
        "id": "jfZvAV6VEeGA"
      },
      "outputs": [],
      "source": [
        "dfBang.head()"
      ]
    },
    {
      "cell_type": "code",
      "source": [
        "dfBang.tail()"
      ],
      "metadata": {
        "id": "rBBok3DpQaWA"
      },
      "execution_count": null,
      "outputs": []
    },
    {
      "cell_type": "code",
      "source": [
        "model_linear_quantity.predict().shape"
      ],
      "metadata": {
        "id": "LnuM0XxAQXPR"
      },
      "execution_count": null,
      "outputs": []
    },
    {
      "cell_type": "code",
      "execution_count": null,
      "metadata": {
        "id": "MmgkNQoWEeGA"
      },
      "outputs": [],
      "source": [
        "dfBang[\"priceLinearQuantity\"] = np.exp(model_linear_quantity.predict())"
      ]
    },
    {
      "cell_type": "code",
      "execution_count": null,
      "metadata": {
        "id": "s3srFCuHEeGA"
      },
      "outputs": [],
      "source": [
        "model_linear_q_pred = model_linear_quantity.predict()"
      ]
    },
    {
      "cell_type": "code",
      "execution_count": null,
      "metadata": {
        "id": "opxxtBMFEeGA"
      },
      "outputs": [],
      "source": [
        "dfBang.plot(kind = \"line\", x=\"timeIndex\", y = \"quantity\")\n",
        "dfBang.plot(kind=\"line\", x=\"timeIndex\", y = [\"priceMod\", \"priceMean\", \n",
        "                                             \"priceLinear\", \"priceLinearQuantity\"])"
      ]
    },
    {
      "cell_type": "markdown",
      "source": [
        "### Прогнозирование в будущее"
      ],
      "metadata": {
        "id": "PzQhRIxmacqK"
      }
    },
    {
      "cell_type": "markdown",
      "source": [
        "Также мы можем обучить нашу модель на части выборки, чтобы осуществить прогноз в будущее. Для оставшихся данных в начале сделаем прогноз, затем оценим, насколько он был точный"
      ],
      "metadata": {
        "id": "ftM7Cv_yZ2wu"
      }
    },
    {
      "cell_type": "code",
      "source": [
        "dfBang.tail()"
      ],
      "metadata": {
        "id": "keTiIykmaMjt"
      },
      "execution_count": null,
      "outputs": []
    },
    {
      "cell_type": "code",
      "source": [
        "model_linear_quantity = smf.ols('priceModLog ~ timeIndex + np.log(quantity)', data = dfBang.iloc[:-15, :]).fit()\n",
        "model_linear_quantity.predict(dfBang.iloc[-15:, :])"
      ],
      "metadata": {
        "id": "zarpgAD0aMjt"
      },
      "execution_count": null,
      "outputs": []
    },
    {
      "cell_type": "code",
      "source": [
        "prediction = np.exp(model_linear_quantity.predict(dfBang.iloc[-15:, :]).values)"
      ],
      "metadata": {
        "id": "Z2AVZ_BRaMju"
      },
      "execution_count": null,
      "outputs": []
    },
    {
      "cell_type": "code",
      "source": [
        "plt.plot(dfBang.date[:-15], dfBang['priceMod'][:-15])\n",
        "plt.plot(dfBang.date[-15:], prediction)"
      ],
      "metadata": {
        "id": "Phn5m29SaFf8"
      },
      "execution_count": null,
      "outputs": []
    },
    {
      "cell_type": "code",
      "source": [
        "plt.plot(dfBang.date, dfBang['priceMod'])\n",
        "plt.plot(dfBang.date[-15:], prediction)"
      ],
      "metadata": {
        "id": "709FxCQ-aFf9"
      },
      "execution_count": null,
      "outputs": []
    },
    {
      "cell_type": "markdown",
      "metadata": {
        "id": "8-UIV1e5EeGA"
      },
      "source": [
        "### Задание 8. Постройте линейную модель с регрессией для величины quantity"
      ]
    },
    {
      "cell_type": "code",
      "execution_count": null,
      "metadata": {
        "id": "sf3Skz-eEeGA"
      },
      "outputs": [],
      "source": [
        "### your code here"
      ]
    },
    {
      "cell_type": "markdown",
      "metadata": {
        "id": "XZIoeJlEEeGB"
      },
      "source": [
        "## 4. Выделение тренда и сезонности\n",
        "\n",
        "При работе с временными рядами выделяют два действия:\n",
        "- Дифференцирование - расчет разницы с определенным временным лагом\n",
        "- Декомпозиция - моделирование как тренда, так и сезонности и удаление их из модели."
      ]
    },
    {
      "cell_type": "markdown",
      "metadata": {
        "id": "0fsem0dgEeGB"
      },
      "source": [
        "Предположим, что у вас имеются ежемесячные данные о пассажиропотоке на международных авиалиниях.  \n",
        "Объем пассажиропотока имеет во времени возрастающий линейный тренд, и в ряде имеется ежегодно повторяющаяся закономерность - сезонность (большинство перевозок приходится на летние месяцы, кроме того, имеется пик меньшей высоты в районе декабрьских каникул). \n",
        "Цель декомпозиции как раз и состоит в том, чтобы отделить эти компоненты, то есть разложить ряд на составляющую тренда, сезонную компоненту и оставшуюся нерегулярную составляющую. "
      ]
    },
    {
      "cell_type": "markdown",
      "metadata": {
        "id": "CNG2ds-gEeGB"
      },
      "source": [
        "То есть каждый уровень временного ряда формируется под воздействием большого числа факторов, которые условно можно подразделить на три группы:\n",
        "- факторы, формирующие тенденцию ряда\n",
        "- факторы, формирующие циклические колебания ряда\n",
        "- случайные факторы  \n",
        "\n",
        "Рассмотрим воздействие каждого фактора на временной ряд в отдельности.  \n",
        "Большинство временных рядов экономических показателей имеют тенденцию, \n",
        "характеризующую совокупное долговременное воздействие множества факторов на динамику изучаемого показателя.  \n",
        "Все эти факторы, взятые в отдельности, могут оказывать разнонаправленное воздействие на исследуемый показатель. Однако в совокупности они формируют его возрастающую или убывающую тенденцию"
      ]
    },
    {
      "cell_type": "markdown",
      "metadata": {
        "id": "galYMOyCEeGB"
      },
      "source": [
        "В большинстве случаев фактический уровень временного ряда можно представить как сумму или произведение трендовой, циклической и случайной компонент. Модель, в которой временной ряд представлен как сумма перечисленных компонент, называется **аддитивной** моделью временного ряда. Модель, в которой временной ряд представлен как произведение перечисленных компонент, называется **мультипликативной** моделью временного ряда. "
      ]
    },
    {
      "cell_type": "markdown",
      "metadata": {
        "id": "YouwSLnLEeGB"
      },
      "source": [
        "**Аддитивная модель** \n",
        "$${Y_t} = t (trend) + s (seasonality) + r (residual)$$"
      ]
    },
    {
      "cell_type": "markdown",
      "metadata": {
        "id": "741swjlMEeGB"
      },
      "source": [
        "![](https://miro.medium.com/max/1360/0*JWWglnH4RBR-SbxC.png)"
      ]
    },
    {
      "cell_type": "markdown",
      "metadata": {
        "id": "ZIrRChfhEeGB"
      },
      "source": [
        "**Мультипликативная модель** \n",
        "$${Y_t} = t (trend) * s (seasonality) * r (residual)$$"
      ]
    },
    {
      "cell_type": "markdown",
      "metadata": {
        "id": "ysletFWIEeGC"
      },
      "source": [
        "![](https://anomaly.io/wp-content/uploads/2015/12/multiplicative-model.png)"
      ]
    },
    {
      "cell_type": "markdown",
      "metadata": {
        "id": "Mr_5kY70EeGC"
      },
      "source": [
        "Как видим, отличие мультипликативной модели от аддитивной состоит в том, \n",
        "что в мультипликативной модели сезонная и случайная составляющие определены в виде относительных величин (коэффициентов), \n",
        "а в аддитивной модели – в виде абсолютных величин.   \n",
        "Эти модели в практических расчетах дадут близкие результаты, если амплитуда колебаний уровней ряда слабо изменяется во времени"
      ]
    },
    {
      "cell_type": "markdown",
      "metadata": {
        "id": "PhaVIFtvEeGC"
      },
      "source": [
        "Какие примеры аддитивных и мультипликаативных рядов из жизни вы знаете?"
      ]
    },
    {
      "cell_type": "markdown",
      "metadata": {
        "id": "FS4z-1JvEeGD"
      },
      "source": [
        "### Декомпозиция \n",
        "Декомпозируем наш временной ряд на тренд и сезонность"
      ]
    },
    {
      "cell_type": "code",
      "execution_count": null,
      "metadata": {
        "id": "0kwGruwzEeGD"
      },
      "outputs": [],
      "source": [
        "from statsmodels.tsa.seasonal import seasonal_decompose"
      ]
    },
    {
      "cell_type": "code",
      "execution_count": null,
      "metadata": {
        "id": "nP2oM48IEeGD"
      },
      "outputs": [],
      "source": [
        "dfBang.index = dfBang.index.to_timestamp()"
      ]
    },
    {
      "cell_type": "code",
      "execution_count": null,
      "metadata": {
        "id": "5mJSviAjEeGD"
      },
      "outputs": [],
      "source": [
        "dfBang.head()"
      ]
    },
    {
      "cell_type": "code",
      "execution_count": null,
      "metadata": {
        "id": "hFwrmK5gEeGE"
      },
      "outputs": [],
      "source": [
        "decomposition = seasonal_decompose(dfBang.priceModLog, model = \"additive\")"
      ]
    },
    {
      "cell_type": "code",
      "execution_count": null,
      "metadata": {
        "id": "wYeJ10CDEeGE"
      },
      "outputs": [],
      "source": [
        "decomposition.plot()"
      ]
    },
    {
      "cell_type": "code",
      "execution_count": null,
      "metadata": {
        "id": "o3A149zqEeGE"
      },
      "outputs": [],
      "source": [
        "trend = decomposition.trend\n",
        "seasonal = decomposition.seasonal\n",
        "residual = decomposition.resid"
      ]
    },
    {
      "cell_type": "code",
      "execution_count": null,
      "metadata": {
        "id": "rvkdXj8tEeGE"
      },
      "outputs": [],
      "source": [
        "# Построим ряд по тренду и сезонности\n",
        "dfBang[\"priceDecomp\"] = np.exp(trend + seasonal)"
      ]
    },
    {
      "cell_type": "code",
      "execution_count": null,
      "metadata": {
        "id": "vBfKz50zEeGE"
      },
      "outputs": [],
      "source": [
        "# Расчет RMSE\n",
        "model_Decomp_RMSE = RMSE(dfBang.priceDecomp, dfBang.priceMod)\n",
        "model_Decomp_RMSE"
      ]
    },
    {
      "cell_type": "code",
      "execution_count": null,
      "metadata": {
        "id": "RqnqDWeCEeGE"
      },
      "outputs": [],
      "source": [
        "dfBang.plot(kind=\"line\", x=\"timeIndex\", y = [\"priceMod\", \"priceMean\", \"priceLinear\", \"priceLinearQuantity\", \"priceDecomp\"])"
      ]
    },
    {
      "cell_type": "code",
      "execution_count": null,
      "metadata": {
        "id": "i1s8Am-KEeGF"
      },
      "outputs": [],
      "source": [
        "dfBangResults"
      ]
    },
    {
      "cell_type": "code",
      "execution_count": null,
      "metadata": {
        "id": "qXGratRjEeGF"
      },
      "outputs": [],
      "source": [
        "dfBangResults.loc[3,\"Model\"] = \"priceDecomp\"\n",
        "dfBangResults.loc[3,\"RMSE\"] = model_Decomp_RMSE\n",
        "dfBangResults.head()"
      ]
    },
    {
      "cell_type": "markdown",
      "metadata": {
        "id": "w2OFNYE3EeGF"
      },
      "source": [
        "### Задание 9. Декомпозируйте ряд остатков quantity"
      ]
    },
    {
      "cell_type": "code",
      "execution_count": null,
      "metadata": {
        "id": "ZUNzRJGWEeGF"
      },
      "outputs": [],
      "source": [
        "### your code here"
      ]
    },
    {
      "cell_type": "markdown",
      "metadata": {
        "id": "GTCE_aJVEeGF"
      },
      "source": [
        "## 5. Стационарность ряда\n",
        "\n",
        "Перед тем, как перейти к моделированию, стоит сказать о таком важном свойстве временного ряда, как стационарность.  \n",
        "Под стационарностью понимают свойство процесса не менять своих статистических характеристик с течением времени, а именно постоянство матожидания, постоянство дисперсии и независимость ковариационной функции от времени (должна зависеть только от расстояния между наблюдениями). Наглядно можно посмотреть на эти свойства на картинках:\n",
        "\n",
        "![](https://habrastorage.org/files/20c/9d8/a63/20c9d8a633ec436f91dccd4aedcc6940.png)  \n",
        "Временной ряд справа не является стационарным, так как его матожидание со временем растёт\n",
        "\n",
        "![](https://habrastorage.org/files/b88/eec/a67/b88eeca676d642449cab135273fd5a95.png)  \n",
        "Здесь не повезло с дисперсией — разброс значений ряда существенно варьируется в зависимости от периода\n",
        "\n",
        "![](https://habrastorage.org/files/2f6/1ee/cb2/2f61eecb20714352840748b826e38680.png)  \n",
        "На последнем графике видно, что значения ряда внезапно становятся ближе друг ко другу, образуя некоторый кластер, а в результате получаем непостоянство ковариаций\n"
      ]
    },
    {
      "cell_type": "markdown",
      "metadata": {
        "id": "C3E5DJzHEeGF"
      },
      "source": [
        "Почему стационарность так важна?  \n",
        "По стационарному ряду просто строить прогноз, так как мы полагаем, что его будущие статистические характеристики не будут отличаться от наблюдаемых текущих. Большинство моделей временных рядов так или иначе моделируют и предсказывают эти характеристики (например, матожидание или дисперсию), поэтому в случае нестационарности исходного ряда предсказания окажутся неверными. К сожалению, большинство временных рядов, с которыми приходится сталкиваться за пределыми учебных материалов, стационарными не являются, но с этим можно (и нужно) бороться."
      ]
    },
    {
      "cell_type": "code",
      "execution_count": null,
      "metadata": {
        "id": "DRGc3lhcEeGG"
      },
      "outputs": [],
      "source": [
        "test = sm.tsa.adfuller(dfBang.priceMod)\n",
        "print('adf: ', test[0])\n",
        "print('p-value: ', test[1])\n",
        "print('Critical values: ', test[4])\n",
        "if test[0]> test[4]['5%']: \n",
        "    print('Есть единичные корни, ряд не стационарен')\n",
        "else:\n",
        "    print('Единичных корней нет, ряд стационарен')\n",
        "\n",
        "# p-value > 0.05: Fail to reject the null hypothesis (H0), the data has a unit root and is non-stationary.\n",
        "# p-value <= 0.05: Reject the null hypothesis (H0), the data does not have a unit root and is stationary."
      ]
    },
    {
      "cell_type": "markdown",
      "metadata": {
        "id": "EsL6Y8OsEeGC"
      },
      "source": [
        "### Расчет лагов\n",
        "Представим временной ряд в виде последовательности разницы между значениями.  \n",
        "Рассчитаем лаги, выведем их на графике"
      ]
    },
    {
      "cell_type": "code",
      "execution_count": null,
      "metadata": {
        "id": "3XqZfrbPEeGC"
      },
      "outputs": [],
      "source": [
        "# Рассчитаем лаги\n",
        "dfBang[\"priceModLogShift1\"] = dfBang.priceModLog.shift()"
      ]
    },
    {
      "cell_type": "code",
      "execution_count": null,
      "metadata": {
        "id": "HVcYB_MzEeGC"
      },
      "outputs": [],
      "source": [
        "# Выведем на графике priceModLog и priceModLogShift1\n",
        "dfBang.plot(kind= \"scatter\", y = \"priceModLog\", x = \"priceModLogShift1\", s = 50)"
      ]
    },
    {
      "cell_type": "code",
      "execution_count": null,
      "metadata": {
        "id": "M7XuMHJyEeGD"
      },
      "outputs": [],
      "source": [
        "dfBang[\"priceModLogDiff\"] = dfBang.priceModLog - dfBang.priceModLogShift1"
      ]
    },
    {
      "cell_type": "code",
      "execution_count": null,
      "metadata": {
        "id": "GtLWQt37EeGD"
      },
      "outputs": [],
      "source": [
        "dfBang.priceModLogDiff.plot()"
      ]
    },
    {
      "cell_type": "markdown",
      "metadata": {
        "id": "SmCy8ZxsEeGG"
      },
      "source": [
        "## 6. Построение модели АRIMA\n",
        "\n",
        "Для моделирования будем использовать модель ARIMA, построенную для ряда первых разностей.  \n",
        "Итак, чтобы построить модель нам нужно знать ее порядок, состоящий из 2-х параметров:  \n",
        "- p — порядок компоненты AR\n",
        "- d — порядок интегрированного ряда (порядок разности временного ряда)\n",
        "- q — порядок компонетны MA  \n",
        "\n",
        "\n",
        "Параметр d равет 1, осталось определить p и q. Для их определения нам надо изучить авторкорреляционную (ACF) и частично автокорреляционную (PACF) функции для ряда первых разностей.\n",
        "ACF поможет нам определить q, т. к. по ее коррелограмме можно определить количество автокорреляционных коэффициентов сильно отличных от 0 в модели MA\n",
        "PACF поможет нам определить p, т. к. по ее коррелограмме можно определить максимальный номер коэффициента сильно отличный от 0 в модели AR.  \n",
        "\n",
        "Чтобы построить соответствующие коррелограммы, в пакете statsmodels имеются следующие функции: acf и pacf.  \n",
        "Можем построить графики ACF и PACF, у которых по оси X откладываются номера лагов, а по оси Y значения соответствующих функций. Нужно отметить, что количество лагов в функциях и определяет число значимых коэффициентов."
      ]
    },
    {
      "cell_type": "code",
      "execution_count": null,
      "metadata": {
        "id": "uF-4rFG8EeGG"
      },
      "outputs": [],
      "source": [
        "ts = dfBang.priceModLog\n",
        "ts_diff = dfBang.priceModLogDiff\n",
        "ts_diff.dropna(inplace = True)"
      ]
    },
    {
      "cell_type": "code",
      "execution_count": null,
      "metadata": {
        "id": "1Uyb8Cy6KbF4"
      },
      "outputs": [],
      "source": [
        "ts = dfBang.priceModLog\n",
        "ts_diff = dfBang.priceModLogDiff\n",
        "ts_diff.dropna(inplace = True)"
      ]
    },
    {
      "cell_type": "code",
      "execution_count": null,
      "metadata": {
        "id": "waiKJvoiEeGG"
      },
      "outputs": [],
      "source": [
        "# ACF и PACF \n",
        "from statsmodels.tsa.stattools import acf, pacf"
      ]
    },
    {
      "cell_type": "code",
      "execution_count": null,
      "metadata": {
        "id": "aFSIlVc3EeGG"
      },
      "outputs": [],
      "source": [
        "lag_acf = acf(ts_diff, nlags=20)"
      ]
    },
    {
      "cell_type": "code",
      "execution_count": null,
      "metadata": {
        "id": "yHpj9u7YEeGH"
      },
      "outputs": [],
      "source": [
        "lag_acf"
      ]
    },
    {
      "cell_type": "code",
      "execution_count": null,
      "metadata": {
        "id": "_kzzpuI_EeGH"
      },
      "outputs": [],
      "source": [
        "ACF = pd.Series(lag_acf)"
      ]
    },
    {
      "cell_type": "code",
      "execution_count": null,
      "metadata": {
        "id": "LRGJ1UJXEeGH"
      },
      "outputs": [],
      "source": [
        "ACF"
      ]
    },
    {
      "cell_type": "code",
      "execution_count": null,
      "metadata": {
        "id": "9zB4mWy0EeGH"
      },
      "outputs": [],
      "source": [
        "ACF.plot(kind = \"bar\")"
      ]
    },
    {
      "cell_type": "code",
      "execution_count": null,
      "metadata": {
        "id": "oEsQhmi5EeGH"
      },
      "outputs": [],
      "source": [
        "lag_pacf = pacf(ts_diff, nlags=20, method='ols')"
      ]
    },
    {
      "cell_type": "code",
      "execution_count": null,
      "metadata": {
        "id": "tmALA-kQEeGH"
      },
      "outputs": [],
      "source": [
        "PACF = pd.Series(lag_pacf)"
      ]
    },
    {
      "cell_type": "code",
      "execution_count": null,
      "metadata": {
        "id": "BxSPQEe9EeGI"
      },
      "outputs": [],
      "source": [
        "PACF.plot(kind = \"bar\")"
      ]
    },
    {
      "cell_type": "markdown",
      "metadata": {
        "id": "RMsxMCYoEeGI"
      },
      "source": [
        "## Построим модель ARIMA "
      ]
    },
    {
      "cell_type": "code",
      "execution_count": null,
      "metadata": {
        "id": "TeaXaVz-EeGI"
      },
      "outputs": [],
      "source": [
        "from statsmodels.tsa.arima.model import ARIMA"
      ]
    },
    {
      "cell_type": "code",
      "execution_count": null,
      "metadata": {
        "id": "dc1dtiq0EeGI"
      },
      "outputs": [],
      "source": [
        "ts_diff.head()"
      ]
    },
    {
      "cell_type": "code",
      "execution_count": null,
      "metadata": {
        "id": "2gyVCnujEeGI"
      },
      "outputs": [],
      "source": [
        "# ARIMA Model (1,0,1)\n",
        "model_AR1MA = ARIMA(ts_diff, order=(1,0,1))"
      ]
    },
    {
      "cell_type": "code",
      "execution_count": null,
      "metadata": {
        "id": "xDMLyxMKEeGI"
      },
      "outputs": [],
      "source": [
        "results_ARIMA = model_AR1MA.fit()"
      ]
    },
    {
      "cell_type": "code",
      "execution_count": null,
      "metadata": {
        "id": "6LElidSWEeGI"
      },
      "outputs": [],
      "source": [
        "results_ARIMA.fittedvalues.head()"
      ]
    },
    {
      "cell_type": "code",
      "execution_count": null,
      "metadata": {
        "id": "mLfraUrYEeGI"
      },
      "outputs": [],
      "source": [
        "ts_diff.plot()\n",
        "results_ARIMA.fittedvalues.plot()"
      ]
    },
    {
      "cell_type": "code",
      "execution_count": null,
      "metadata": {
        "id": "ZkxTnshZEeGJ"
      },
      "outputs": [],
      "source": [
        "ts_diff.sum()"
      ]
    },
    {
      "cell_type": "code",
      "execution_count": null,
      "metadata": {
        "id": "yJOWAj1vEeGJ"
      },
      "outputs": [],
      "source": [
        "predictions_ARIMA_diff = pd.Series(results_ARIMA.fittedvalues, copy=True)\n",
        "predictions_ARIMA_diff.tail()"
      ]
    },
    {
      "cell_type": "code",
      "execution_count": null,
      "metadata": {
        "id": "zKJ7M_dgEeGJ"
      },
      "outputs": [],
      "source": [
        "predictions_ARIMA_diff.sum()"
      ]
    },
    {
      "cell_type": "code",
      "execution_count": null,
      "metadata": {
        "id": "GhyS2N5lEeGJ"
      },
      "outputs": [],
      "source": [
        "predictions_ARIMA_diff_cumsum = predictions_ARIMA_diff.cumsum()\n",
        "predictions_ARIMA_diff_cumsum.tail()"
      ]
    },
    {
      "cell_type": "code",
      "execution_count": null,
      "metadata": {
        "id": "8Aamc7ZyEeGJ"
      },
      "outputs": [],
      "source": [
        "ts.iloc[0]"
      ]
    },
    {
      "cell_type": "code",
      "execution_count": null,
      "metadata": {
        "id": "TrD1EV9tEeGJ"
      },
      "outputs": [],
      "source": [
        "predictions_ARIMA_log = pd.Series(ts.iloc[0], index=ts.index)\n",
        "predictions_ARIMA_log = predictions_ARIMA_log.add(predictions_ARIMA_diff_cumsum, fill_value=0)\n",
        "predictions_ARIMA_log.tail()"
      ]
    },
    {
      "cell_type": "code",
      "execution_count": null,
      "metadata": {
        "id": "PJlX9xDhEeGK"
      },
      "outputs": [],
      "source": [
        "dfBang['priceARIMA'] = np.exp(predictions_ARIMA_log)"
      ]
    },
    {
      "cell_type": "code",
      "execution_count": null,
      "metadata": {
        "id": "f7Y600LZEeGK"
      },
      "outputs": [],
      "source": [
        "dfBang.plot(kind=\"line\", x=\"timeIndex\", y = [\"priceMod\", \"priceARIMA\"])"
      ]
    },
    {
      "cell_type": "code",
      "execution_count": null,
      "metadata": {
        "id": "YJrICkp1EeGK"
      },
      "outputs": [],
      "source": [
        "dfBang.plot(kind=\"line\", x=\"timeIndex\", y = [\"priceMod\", \"priceMean\", \"priceLinear\", \n",
        "                                             \"priceLinearQuantity\", \"priceARIMA\"])"
      ]
    },
    {
      "cell_type": "code",
      "execution_count": null,
      "metadata": {
        "id": "5ID8QW67EeGK"
      },
      "outputs": [],
      "source": [
        "# RMSE\n",
        "model_arima_RMSE = RMSE(dfBang.priceARIMA, dfBang.priceMod)\n",
        "model_arima_RMSE"
      ]
    },
    {
      "cell_type": "markdown",
      "metadata": {
        "id": "C6qY68XjEeGK"
      },
      "source": [
        "Обычно подбор параметров для ARIMA — сложный и трудоемкий процесс.  \n",
        "23-го февраля 2017 года команда Core Data Science из Facebook выпустила новую библиотеку для работы с временными рядами — Prophet. Попробуйте применить новую библиотеку и посмотрите на удобство в использовании и качество предсказания."
      ]
    },
    {
      "cell_type": "markdown",
      "metadata": {
        "id": "2XDnXjxcEeGL"
      },
      "source": [
        "### Вывод"
      ]
    },
    {
      "cell_type": "markdown",
      "metadata": {
        "id": "ufCVIncdEeGL"
      },
      "source": [
        "На семинаре мы ознакомились с разными подходами к анализу и прогнозированию временных рядов.  \n",
        "Была рассмотрена интегрированная модель авторегрессии – скользящего среднего (ARIMA), как базовая модель прогнозирования.  \n",
        "Как вы уже убедились, серебряной пули для решения такого рода задач пока нет.  \n",
        "Методы, разработанные в 60-е годы прошлого века, (а некоторые и в начале 19-го), по-прежнему пользуются популярностью наравне с неразобранными в рамках данной статьи LSTM или RNN. Отчасти это связано с тем, что задача прогнозирования, как и любая другая задача, возникающая в процессе работы с данными — во многом творческая и уж точно исследовательская. Несмотря на обилие формальных метрик качества и способов оценки параметров, для каждого временного ряда часто приходится подбирать и пробовать что-то своё. Не последнюю роль играет и баланс между качеством и трудозатратами."
      ]
    }
  ]
}